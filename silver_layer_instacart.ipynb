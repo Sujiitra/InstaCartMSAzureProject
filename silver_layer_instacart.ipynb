{
 "cells": [
  {
   "cell_type": "code",
   "execution_count": 0,
   "metadata": {
    "application/vnd.databricks.v1+cell": {
     "cellMetadata": {
      "byteLimit": 2048000,
      "rowLimit": 10000
     },
     "inputWidgets": {},
     "nuid": "46b66646-4c7b-43d8-9e12-62425117ea59",
     "showTitle": false,
     "tableResultSettingsMap": {},
     "title": ""
    }
   },
   "outputs": [],
   "source": [
    "from pyspark.sql.functions import *\n",
    "from pyspark.sql.types import *"
   ]
  },
  {
   "cell_type": "code",
   "execution_count": 0,
   "metadata": {
    "application/vnd.databricks.v1+cell": {
     "cellMetadata": {
      "byteLimit": 2048000,
      "rowLimit": 10000
     },
     "inputWidgets": {},
     "nuid": "5e510f5d-63c8-4489-ab02-684d312cd590",
     "showTitle": false,
     "tableResultSettingsMap": {},
     "title": ""
    }
   },
   "outputs": [
    {
     "output_type": "stream",
     "name": "stdout",
     "output_type": "stream",
     "text": [
      "/mnt/bronze has been unmounted.\n"
     ]
    },
    {
     "output_type": "display_data",
     "data": {
      "text/html": [
       "<style scoped>\n",
       "  .table-result-container {\n",
       "    max-height: 300px;\n",
       "    overflow: auto;\n",
       "  }\n",
       "  table, th, td {\n",
       "    border: 1px solid black;\n",
       "    border-collapse: collapse;\n",
       "  }\n",
       "  th, td {\n",
       "    padding: 5px;\n",
       "  }\n",
       "  th {\n",
       "    text-align: left;\n",
       "  }\n",
       "</style><div class='table-result-container'><table class='table-result'><thead style='background-color: white'><tr><th>path</th><th>name</th><th>size</th><th>modificationTime</th></tr></thead><tbody><tr><td>dbfs:/mnt/bronze/InstacartOnlineGroceryBasketDataset/</td><td>InstacartOnlineGroceryBasketDataset/</td><td>0</td><td>0</td></tr></tbody></table></div>"
      ]
     },
     "metadata": {
      "application/vnd.databricks.v1+output": {
       "addedWidgets": {},
       "aggData": [],
       "aggError": "",
       "aggOverflow": false,
       "aggSchema": [],
       "aggSeriesLimitReached": false,
       "aggType": "",
       "arguments": {},
       "columnCustomDisplayInfos": {},
       "data": [
        [
         "dbfs:/mnt/bronze/InstacartOnlineGroceryBasketDataset/",
         "InstacartOnlineGroceryBasketDataset/",
         0,
         0
        ]
       ],
       "datasetInfos": [],
       "dbfsResultPath": null,
       "isJsonSchema": true,
       "metadata": {},
       "overflow": false,
       "plotOptions": {
        "customPlotOptions": {},
        "displayType": "table",
        "pivotAggregation": null,
        "pivotColumns": null,
        "xColumns": null,
        "yColumns": null
       },
       "removedWidgets": [],
       "schema": [
        {
         "metadata": "{}",
         "name": "path",
         "type": "\"string\""
        },
        {
         "metadata": "{}",
         "name": "name",
         "type": "\"string\""
        },
        {
         "metadata": "{}",
         "name": "size",
         "type": "\"long\""
        },
        {
         "metadata": "{}",
         "name": "modificationTime",
         "type": "\"long\""
        }
       ],
       "type": "table"
      }
     },
     "output_type": "display_data"
    }
   ],
   "source": [
    "# COMMAND ----------\n",
    "\n",
    "# MAGIC %md\n",
    "# MAGIC ## SILVER LAYER SCRIPT\n",
    "\n",
    "# COMMAND ----------\n",
    "\n",
    "# MAGIC %md\n",
    "# MAGIC ### DATA LOADING\n",
    "\n",
    "# COMMAND ----------\n",
    "\n",
    "# Define storage account and SAS token details\n",
    "storage_account_name = \"instacartdatalake1\"\n",
    "sas_token = \"sv=2024-11-04&ss=bfqt&srt=sco&sp=rwdlacupyx&se=2025-04-30T22:47:32Z&st=2025-04-09T14:47:32Z&spr=https&sig=rujTRHKQfCbM9Dks7pD4lKPq2XBnaxho8j3DhtPs7nA%3D\"\n",
    "container_name = \"bronze\"\n",
    "\n",
    "# Unmount the existing mount point if it exists\n",
    "try:\n",
    "    dbutils.fs.unmount(f\"/mnt/{container_name}\")\n",
    "except:\n",
    "    pass\n",
    "\n",
    "# Set up configuration\n",
    "dbutils.fs.mount(\n",
    "    source=f\"wasbs://{container_name}@{storage_account_name}.blob.core.windows.net\",\n",
    "    mount_point=f\"/mnt/{container_name}\",\n",
    "    extra_configs={\"fs.azure.sas.\"+container_name+\".\"+storage_account_name+\".blob.core.windows.net\": sas_token}\n",
    ")\n",
    "\n",
    "# Verify the mount\n",
    "display(dbutils.fs.ls(f\"/mnt/{container_name}\"))"
   ]
  },
  {
   "cell_type": "code",
   "execution_count": 0,
   "metadata": {
    "application/vnd.databricks.v1+cell": {
     "cellMetadata": {
      "byteLimit": 2048000,
      "rowLimit": 10000
     },
     "inputWidgets": {},
     "nuid": "3f3f7600-90d6-4e22-a074-b9d8a0055657",
     "showTitle": false,
     "tableResultSettingsMap": {},
     "title": ""
    }
   },
   "outputs": [],
   "source": [
    "# COMMAND ----------\n",
    "\n",
    "bronze_base_path = \"/mnt/bronze/InstacartOnlineGroceryBasketDataset/\"\n",
    "\n",
    "aisles_df = spark.read.option(\"header\", \"true\").csv(bronze_base_path + \"aisles.csv\")\n",
    "departments_df = spark.read.option(\"header\", \"true\").csv(bronze_base_path + \"departments.csv\")\n",
    "order_products_prior_df = spark.read.option(\"header\", \"true\").csv(bronze_base_path + \"order_products__prior.csv\")\n",
    "order_products_train_df = spark.read.option(\"header\", \"true\").csv(bronze_base_path + \"order_products__train.csv\")\n",
    "orders_df = spark.read.option(\"header\", \"true\").csv(bronze_base_path + \"orders.csv\")\n",
    "products_df = spark.read.option(\"header\", \"true\").csv(bronze_base_path + \"products.csv\")"
   ]
  },
  {
   "cell_type": "code",
   "execution_count": 0,
   "metadata": {
    "application/vnd.databricks.v1+cell": {
     "cellMetadata": {
      "byteLimit": 2048000,
      "rowLimit": 10000
     },
     "inputWidgets": {},
     "nuid": "4c4bb580-c087-4751-a492-8d0fb743cb90",
     "showTitle": false,
     "tableResultSettingsMap": {},
     "title": ""
    }
   },
   "outputs": [
    {
     "output_type": "stream",
     "name": "stdout",
     "output_type": "stream",
     "text": [
      "/mnt/silver has been unmounted.\n"
     ]
    },
    {
     "output_type": "execute_result",
     "data": {
      "text/plain": [
       "True"
      ]
     },
     "execution_count": 6,
     "metadata": {},
     "output_type": "execute_result"
    }
   ],
   "source": [
    "# COMMAND ----------\n",
    "\n",
    "# MAGIC %md\n",
    "# MAGIC ### Transformation\n",
    "\n",
    "# COMMAND ----------\n",
    "\n",
    "# Define storage account and SAS token details\n",
    "storage_account_name = \"instacartdatalake1\"\n",
    "sas_token = \"sv=2024-11-04&ss=bfqt&srt=sco&sp=rwdlacupyx&se=2025-04-30T22:47:32Z&st=2025-04-09T14:47:32Z&spr=https&sig=rujTRHKQfCbM9Dks7pD4lKPq2XBnaxho8j3DhtPs7nA%3D\"\n",
    "container_name = \"silver\"\n",
    "\n",
    "# Unmount the existing mount point if it exists\n",
    "try:\n",
    "    dbutils.fs.unmount(f\"/mnt/{container_name}\")\n",
    "except:\n",
    "    pass\n",
    "\n",
    "# Set up configuration\n",
    "dbutils.fs.mount(\n",
    "    source=f\"wasbs://{container_name}@{storage_account_name}.blob.core.windows.net\",\n",
    "    mount_point=f\"/mnt/{container_name}\",\n",
    "    extra_configs={\"fs.azure.sas.\"+container_name+\".\"+storage_account_name+\".blob.core.windows.net\": sas_token}\n",
    ")"
   ]
  },
  {
   "cell_type": "code",
   "execution_count": 0,
   "metadata": {
    "application/vnd.databricks.v1+cell": {
     "cellMetadata": {
      "byteLimit": 2048000,
      "rowLimit": 10000
     },
     "inputWidgets": {},
     "nuid": "217b752e-8037-4588-98f4-0293fd00cbec",
     "showTitle": false,
     "tableResultSettingsMap": {},
     "title": ""
    }
   },
   "outputs": [],
   "source": [
    "orders_df.limit(10).write.mode(\"overwrite\").option(\"header\", \"true\").csv(\"/mnt/silver/test_orders\")\n"
   ]
  },
  {
   "cell_type": "code",
   "execution_count": 0,
   "metadata": {
    "application/vnd.databricks.v1+cell": {
     "cellMetadata": {
      "byteLimit": 2048000,
      "rowLimit": 10000
     },
     "inputWidgets": {},
     "nuid": "7e4fcd3b-f8ef-4147-88a5-302381c01dd6",
     "showTitle": false,
     "tableResultSettingsMap": {},
     "title": ""
    }
   },
   "outputs": [
    {
     "output_type": "display_data",
     "data": {
      "text/html": [
       "<style scoped>\n",
       "  .table-result-container {\n",
       "    max-height: 300px;\n",
       "    overflow: auto;\n",
       "  }\n",
       "  table, th, td {\n",
       "    border: 1px solid black;\n",
       "    border-collapse: collapse;\n",
       "  }\n",
       "  th, td {\n",
       "    padding: 5px;\n",
       "  }\n",
       "  th {\n",
       "    text-align: left;\n",
       "  }\n",
       "</style><div class='table-result-container'><table class='table-result'><thead style='background-color: white'><tr><th>path</th><th>name</th><th>size</th><th>modificationTime</th></tr></thead><tbody><tr><td>dbfs:/mnt/silver/test_orders/</td><td>test_orders/</td><td>0</td><td>0</td></tr></tbody></table></div>"
      ]
     },
     "metadata": {
      "application/vnd.databricks.v1+output": {
       "addedWidgets": {},
       "aggData": [],
       "aggError": "",
       "aggOverflow": false,
       "aggSchema": [],
       "aggSeriesLimitReached": false,
       "aggType": "",
       "arguments": {},
       "columnCustomDisplayInfos": {},
       "data": [
        [
         "dbfs:/mnt/silver/test_orders/",
         "test_orders/",
         0,
         0
        ]
       ],
       "datasetInfos": [],
       "dbfsResultPath": null,
       "isJsonSchema": true,
       "metadata": {},
       "overflow": false,
       "plotOptions": {
        "customPlotOptions": {},
        "displayType": "table",
        "pivotAggregation": null,
        "pivotColumns": null,
        "xColumns": null,
        "yColumns": null
       },
       "removedWidgets": [],
       "schema": [
        {
         "metadata": "{}",
         "name": "path",
         "type": "\"string\""
        },
        {
         "metadata": "{}",
         "name": "name",
         "type": "\"string\""
        },
        {
         "metadata": "{}",
         "name": "size",
         "type": "\"long\""
        },
        {
         "metadata": "{}",
         "name": "modificationTime",
         "type": "\"long\""
        }
       ],
       "type": "table"
      }
     },
     "output_type": "display_data"
    }
   ],
   "source": [
    "display(dbutils.fs.ls(\"/mnt/silver\"))\n"
   ]
  },
  {
   "cell_type": "code",
   "execution_count": 0,
   "metadata": {
    "application/vnd.databricks.v1+cell": {
     "cellMetadata": {
      "byteLimit": 2048000,
      "rowLimit": 10000
     },
     "inputWidgets": {},
     "nuid": "a5602e1b-3f6e-403f-8ea6-2a117f5281f8",
     "showTitle": false,
     "tableResultSettingsMap": {},
     "title": ""
    }
   },
   "outputs": [],
   "source": [
    "# COMMAND ----------\n",
    "# MAGIC %md\n",
    "# MAGIC ### Save Cleaned Raw Tables to Silver (No Merges)\n",
    "\n",
    "# COMMAND ----------\n",
    "# Remove rows where eval_set is 'test'\n",
    "from pyspark.sql.functions import col\n",
    "orders_df = orders_df.filter(col(\"eval_set\") != \"test\")\n",
    "\n",
    "# Drop duplicate or conflicting columns if present in products_df\n",
    "columns_to_drop = [\"aisle\", \"department\", \"aisle_name\", \"department_name\"]\n",
    "products_df = products_df.drop(*[c for c in columns_to_drop if c in products_df.columns])\n",
    "\n",
    "# Save all raw datasets individually to Silver\n",
    "orders_df.write.format(\"delta\").mode(\"overwrite\").save(\"/mnt/silver/orders\")\n",
    "products_df.write.format(\"delta\").mode(\"overwrite\").save(\"/mnt/silver/products\")\n",
    "order_products_prior_df.write.format(\"delta\").mode(\"overwrite\").save(\"/mnt/silver/order_products_prior\")\n",
    "order_products_train_df.write.format(\"delta\").mode(\"overwrite\").save(\"/mnt/silver/order_products_train\")\n",
    "aisles_df.write.format(\"delta\").mode(\"overwrite\").save(\"/mnt/silver/aisles\")\n",
    "departments_df.write.format(\"delta\").mode(\"overwrite\").save(\"/mnt/silver/departments\")\n",
    "\n",
    "# COMMAND ----------\n",
    "# MAGIC %md\n",
    "# MAGIC ✅ Done! All raw Bronze tables are now written as clean, separate Delta tables in the Silver layer. Power BI or SQL tools can join them on-demand for reporting.\n"
   ]
  },
  {
   "cell_type": "code",
   "execution_count": 0,
   "metadata": {
    "application/vnd.databricks.v1+cell": {
     "cellMetadata": {
      "byteLimit": 2048000,
      "rowLimit": 10000
     },
     "inputWidgets": {},
     "nuid": "61345579-69fd-407b-a820-c4982362a90b",
     "showTitle": false,
     "tableResultSettingsMap": {},
     "title": ""
    }
   },
   "outputs": [],
   "source": [
    "# COMMAND ----------\n",
    "# MAGIC %md\n",
    "# MAGIC ### Explore Silver Data (Query Examples)\n",
    "\n",
    "# COMMAND ----------\n",
    "# Load Silver Delta Tables\n",
    "orders = spark.read.format(\"delta\").load(\"/mnt/silver/orders\")\n",
    "products = spark.read.format(\"delta\").load(\"/mnt/silver/products\")\n",
    "order_prior = spark.read.format(\"delta\").load(\"/mnt/silver/order_products_prior\")\n",
    "order_train = spark.read.format(\"delta\").load(\"/mnt/silver/order_products_train\")\n",
    "aisles = spark.read.format(\"delta\").load(\"/mnt/silver/aisles\")\n",
    "departments = spark.read.format(\"delta\").load(\"/mnt/silver/departments\")"
   ]
  },
  {
   "cell_type": "code",
   "execution_count": 0,
   "metadata": {
    "application/vnd.databricks.v1+cell": {
     "cellMetadata": {
      "byteLimit": 2048000,
      "rowLimit": 10000
     },
     "inputWidgets": {},
     "nuid": "2e1d1b85-5a61-444b-b1a6-d6b5d4405ddf",
     "showTitle": false,
     "tableResultSettingsMap": {},
     "title": ""
    }
   },
   "outputs": [
    {
     "output_type": "stream",
     "name": "stdout",
     "output_type": "stream",
     "text": [
      "+--------+-------+--------+------------+---------+-----------------+----------------------+\n|order_id|user_id|eval_set|order_number|order_dow|order_hour_of_day|days_since_prior_order|\n+--------+-------+--------+------------+---------+-----------------+----------------------+\n| 2539329|      1|   prior|           1|        2|               08|                  NULL|\n| 2398795|      1|   prior|           2|        3|               07|                  15.0|\n|  473747|      1|   prior|           3|        3|               12|                  21.0|\n| 2254736|      1|   prior|           4|        4|               07|                  29.0|\n|  431534|      1|   prior|           5|        4|               15|                  28.0|\n+--------+-------+--------+------------+---------+-----------------+----------------------+\nonly showing top 5 rows\n\n"
     ]
    }
   ],
   "source": [
    "# COMMAND ----------\n",
    "# Show some orders from a specific user (example: user_id = 1)\n",
    "orders.filter(col(\"user_id\") == 1).show(5)\n"
   ]
  },
  {
   "cell_type": "code",
   "execution_count": 0,
   "metadata": {
    "application/vnd.databricks.v1+cell": {
     "cellMetadata": {
      "byteLimit": 2048000,
      "rowLimit": 10000
     },
     "inputWidgets": {},
     "nuid": "4c4971ed-7ccc-43f7-827a-f7a27e108f98",
     "showTitle": false,
     "tableResultSettingsMap": {},
     "title": ""
    }
   },
   "outputs": [
    {
     "output_type": "stream",
     "name": "stdout",
     "output_type": "stream",
     "text": [
      "Total Orders: 3346083\n"
     ]
    }
   ],
   "source": [
    "# COMMAND ----------\n",
    "# Count total number of orders\n",
    "print(f\"Total Orders: {orders.count()}\")\n"
   ]
  },
  {
   "cell_type": "code",
   "execution_count": 0,
   "metadata": {
    "application/vnd.databricks.v1+cell": {
     "cellMetadata": {
      "byteLimit": 2048000,
      "rowLimit": 10000
     },
     "inputWidgets": {},
     "nuid": "423dcddf-1f31-4416-87a9-bd5389a45d05",
     "showTitle": false,
     "tableResultSettingsMap": {},
     "title": ""
    }
   },
   "outputs": [
    {
     "output_type": "stream",
     "name": "stdout",
     "output_type": "stream",
     "text": [
      "+----------+------+\n|product_id| count|\n+----------+------+\n|     24852|472565|\n|     13176|379450|\n|     21137|264683|\n|     21903|241921|\n|     47209|213584|\n|     47766|176815|\n|     47626|152657|\n|     16797|142951|\n|     26209|140627|\n|     27845|137905|\n+----------+------+\nonly showing top 10 rows\n\n"
     ]
    }
   ],
   "source": [
    "# COMMAND ----------\n",
    "# Most frequently ordered product_ids in prior orders\n",
    "from pyspark.sql.functions import desc\n",
    "\n",
    "order_prior.groupBy(\"product_id\") \\\n",
    "    .count() \\\n",
    "    .orderBy(desc(\"count\")) \\\n",
    "    .show(10)\n"
   ]
  },
  {
   "cell_type": "code",
   "execution_count": 0,
   "metadata": {
    "application/vnd.databricks.v1+cell": {
     "cellMetadata": {
      "byteLimit": 2048000,
      "rowLimit": 10000
     },
     "inputWidgets": {},
     "nuid": "81f120f7-57b3-4e92-8ac9-e53bdace4bcd",
     "showTitle": false,
     "tableResultSettingsMap": {},
     "title": ""
    }
   },
   "outputs": [
    {
     "output_type": "stream",
     "name": "stdout",
     "output_type": "stream",
     "text": [
      "+-------------+---------------+\n|department_id|department_name|\n+-------------+---------------+\n|           10|           bulk|\n|           21|        missing|\n|           13|         pantry|\n|           12|   meat seafood|\n|           17|      household|\n|            1|         frozen|\n|            3|         bakery|\n|           18|         babies|\n|           14|      breakfast|\n|           15|   canned goods|\n|            2|          other|\n|            6|  international|\n|            5|        alcohol|\n|            4|        produce|\n|            8|           pets|\n|            9|dry goods pasta|\n|           16|     dairy eggs|\n|           11|  personal care|\n|           19|         snacks|\n|            7|      beverages|\n+-------------+---------------+\nonly showing top 20 rows\n\n"
     ]
    }
   ],
   "source": [
    "# COMMAND ----------\n",
    "# List distinct departments\n",
    "departments.select(\"department_id\", \"department_name\").distinct().show()\n"
   ]
  },
  {
   "cell_type": "code",
   "execution_count": 0,
   "metadata": {
    "application/vnd.databricks.v1+cell": {
     "cellMetadata": {
      "byteLimit": 2048000,
      "rowLimit": 10000
     },
     "inputWidgets": {},
     "nuid": "e3dc2968-d12b-43a2-ad23-7fe6a13d4ff5",
     "showTitle": false,
     "tableResultSettingsMap": {},
     "title": ""
    }
   },
   "outputs": [
    {
     "output_type": "stream",
     "name": "stdout",
     "output_type": "stream",
     "text": [
      "+-------+-----+\n|user_id|count|\n+-------+-----+\n|  17884|  100|\n|  31310|  100|\n|  10502|  100|\n|  22802|  100|\n|   1958|  100|\n|   7658|  100|\n|   9911|  100|\n|  50817|  100|\n|   3742|  100|\n|  15124|  100|\n+-------+-----+\nonly showing top 10 rows\n\n"
     ]
    }
   ],
   "source": [
    "# COMMAND ----------\n",
    "# Top users by number of orders\n",
    "orders.groupBy(\"user_id\").count().orderBy(desc(\"count\")).show(10)\n"
   ]
  },
  {
   "cell_type": "code",
   "execution_count": 0,
   "metadata": {
    "application/vnd.databricks.v1+cell": {
     "cellMetadata": {
      "byteLimit": 2048000,
      "rowLimit": 10000
     },
     "inputWidgets": {},
     "nuid": "2dcb0042-f919-406c-885f-63251d386110",
     "showTitle": false,
     "tableResultSettingsMap": {},
     "title": ""
    }
   },
   "outputs": [
    {
     "output_type": "stream",
     "name": "stdout",
     "output_type": "stream",
     "text": [
      "+-----------------+------+\n|order_hour_of_day| count|\n+-----------------+------+\n|               00| 22224|\n|               01| 12103|\n|               02|  7375|\n|               03|  5343|\n|               04|  5393|\n|               05|  9374|\n|               06| 29913|\n|               07| 90032|\n|               08|174664|\n|               09|252529|\n|               10|282470|\n|               11|278616|\n|               12|266828|\n|               13|271885|\n|               14|276659|\n|               15|277207|\n|               16|266444|\n|               17|223433|\n|               18|178556|\n|               19|137341|\n+-----------------+------+\nonly showing top 20 rows\n\n"
     ]
    }
   ],
   "source": [
    "# COMMAND ----------\n",
    "# Number of orders by hour of day\n",
    "orders.groupBy(\"order_hour_of_day\").count().orderBy(\"order_hour_of_day\").show()\n"
   ]
  },
  {
   "cell_type": "code",
   "execution_count": 0,
   "metadata": {
    "application/vnd.databricks.v1+cell": {
     "cellMetadata": {
      "byteLimit": 2048000,
      "rowLimit": 10000
     },
     "inputWidgets": {},
     "nuid": "3e10e8bc-19f9-4f6c-98d2-b66c2ba095a5",
     "showTitle": false,
     "tableResultSettingsMap": {},
     "title": ""
    }
   },
   "outputs": [
    {
     "output_type": "stream",
     "name": "stdout",
     "output_type": "stream",
     "text": [
      "+---------+------+\n|order_dow| count|\n+---------+------+\n|        0|585237|\n|        1|576377|\n|        2|458074|\n|        3|428087|\n|        4|417171|\n|        5|443388|\n|        6|437749|\n+---------+------+\n\n"
     ]
    }
   ],
   "source": [
    "# COMMAND ----------\n",
    "# Number of orders by day of week\n",
    "orders.groupBy(\"order_dow\").count().orderBy(\"order_dow\").show()\n"
   ]
  },
  {
   "cell_type": "code",
   "execution_count": 0,
   "metadata": {
    "application/vnd.databricks.v1+cell": {
     "cellMetadata": {
      "byteLimit": 2048000,
      "rowLimit": 10000
     },
     "inputWidgets": {},
     "nuid": "44148110-6fa5-466a-aca0-451cd6cf13a0",
     "showTitle": false,
     "tableResultSettingsMap": {},
     "title": ""
    }
   },
   "outputs": [
    {
     "output_type": "stream",
     "name": "stdout",
     "output_type": "stream",
     "text": [
      "+----------+-----+\n|product_id|count|\n+----------+-----+\n|     24852|18726|\n|     13176|15480|\n|     21137|10894|\n|     21903| 9784|\n|     47626| 8135|\n|     47766| 7409|\n|     47209| 7293|\n|     16797| 6494|\n|     26209| 6033|\n|     27966| 5546|\n+----------+-----+\nonly showing top 10 rows\n\n"
     ]
    }
   ],
   "source": [
    "# COMMAND ----------\n",
    "# Top 10 products by total orders in training set\n",
    "order_train.groupBy(\"product_id\").count().orderBy(desc(\"count\")).show(10)\n"
   ]
  }
 ],
 "metadata": {
  "application/vnd.databricks.v1+notebook": {
   "computePreferences": null,
   "dashboards": [],
   "environmentMetadata": {
    "base_environment": "",
    "environment_version": "2"
   },
   "inputWidgetPreferences": null,
   "language": "python",
   "notebookMetadata": {
    "pythonIndentUnit": 4
   },
   "notebookName": "silver_layer_instacart",
   "widgets": {}
  },
  "language_info": {
   "name": "python"
  }
 },
 "nbformat": 4,
 "nbformat_minor": 0
}